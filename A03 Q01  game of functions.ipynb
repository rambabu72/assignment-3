{
 "cells": [
  {
   "cell_type": "code",
   "execution_count": 2,
   "id": "bffaec69",
   "metadata": {},
   "outputs": [],
   "source": [
    "# Sample List : (8, 2, 3, 0, 7)\n",
    "\n",
    "# Expected Output : 20\n",
    "\n",
    "\n",
    "\n",
    "# Explanation:\n",
    "\n",
    "\n",
    "\n",
    "# Summation should like 8+2+3+0+7 = 20"
   ]
  },
  {
   "cell_type": "code",
   "execution_count": 3,
   "id": "02dfe1be",
   "metadata": {},
   "outputs": [],
   "source": [
    "def adder(a,b,c,d,e,f):\n",
    "    s = a+b+c+d+e+f\n",
    "    return s"
   ]
  },
  {
   "cell_type": "code",
   "execution_count": 5,
   "id": "6f73bf66",
   "metadata": {},
   "outputs": [
    {
     "data": {
      "text/plain": [
       "86.2"
      ]
     },
     "execution_count": 5,
     "metadata": {},
     "output_type": "execute_result"
    }
   ],
   "source": [
    "adder(8,5,7,2.5,6.7,57)"
   ]
  },
  {
   "cell_type": "code",
   "execution_count": 10,
   "id": "745b5c8a",
   "metadata": {},
   "outputs": [],
   "source": [
    "# another method\n",
    "\n",
    "\n",
    "    "
   ]
  },
  {
   "cell_type": "code",
   "execution_count": 11,
   "id": "8a0c33c7",
   "metadata": {},
   "outputs": [
    {
     "name": "stdout",
     "output_type": "stream",
     "text": [
      "Enter the list for Addition : 8,5,4,3,2,2.5,3.5\n",
      "Addition of Entered List is :  28.0\n"
     ]
    }
   ],
   "source": [
    "def adding():\n",
    "    list1 = eval(input('Enter the list for Addition : '))\n",
    "    total_sum = 0\n",
    "    for numbers in list1:\n",
    "        total_sum = total_sum + numbers\n",
    "    return(total_sum)\n",
    "total_sum = adding()\n",
    "print('Addition of Entered List is : ' , total_sum )"
   ]
  },
  {
   "cell_type": "code",
   "execution_count": null,
   "id": "ed046832",
   "metadata": {},
   "outputs": [],
   "source": []
  }
 ],
 "metadata": {
  "kernelspec": {
   "display_name": "Python 3 (ipykernel)",
   "language": "python",
   "name": "python3"
  },
  "language_info": {
   "codemirror_mode": {
    "name": "ipython",
    "version": 3
   },
   "file_extension": ".py",
   "mimetype": "text/x-python",
   "name": "python",
   "nbconvert_exporter": "python",
   "pygments_lexer": "ipython3",
   "version": "3.9.7"
  }
 },
 "nbformat": 4,
 "nbformat_minor": 5
}
