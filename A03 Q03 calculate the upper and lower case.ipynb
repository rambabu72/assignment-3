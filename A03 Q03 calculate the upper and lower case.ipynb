{
 "cells": [
  {
   "cell_type": "code",
   "execution_count": 1,
   "id": "836cbfb9",
   "metadata": {},
   "outputs": [],
   "source": [
    "# ﻿Sample String : 'The quick Brow Fox'\n",
    "\n",
    "# Expected Output :\n",
    "\n",
    "# No. of Upper case characters : 3\n",
    "\n",
    "# No. of Lower case Characters : 12"
   ]
  },
  {
   "cell_type": "code",
   "execution_count": 5,
   "id": "9b35846e",
   "metadata": {},
   "outputs": [
    {
     "name": "stdout",
     "output_type": "stream",
     "text": [
      "enter the string :'The quick Brow Fox'\n",
      "the count of capital numbers is  3\n",
      "the count of small letters is  12\n"
     ]
    }
   ],
   "source": [
    "def upplower():\n",
    "    count_upper = 0\n",
    "    count_lower = 0\n",
    "    input_string = input(\"enter the string :\")\n",
    "    for char in input_string:\n",
    "        if char.isupper():\n",
    "            count_upper += 1\n",
    "            \n",
    "        elif char.islower():\n",
    "            count_lower += 1\n",
    "    print(\"the count of capital numbers is \",count_upper)\n",
    "    print(\"the count of small letters is \",count_lower)\n",
    "upplower()"
   ]
  },
  {
   "cell_type": "code",
   "execution_count": null,
   "id": "eb8ee1c8",
   "metadata": {},
   "outputs": [],
   "source": []
  }
 ],
 "metadata": {
  "kernelspec": {
   "display_name": "Python 3 (ipykernel)",
   "language": "python",
   "name": "python3"
  },
  "language_info": {
   "codemirror_mode": {
    "name": "ipython",
    "version": 3
   },
   "file_extension": ".py",
   "mimetype": "text/x-python",
   "name": "python",
   "nbconvert_exporter": "python",
   "pygments_lexer": "ipython3",
   "version": "3.9.7"
  }
 },
 "nbformat": 4,
 "nbformat_minor": 5
}
