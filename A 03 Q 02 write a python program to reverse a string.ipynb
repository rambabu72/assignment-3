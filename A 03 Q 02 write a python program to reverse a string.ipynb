{
 "cells": [
  {
   "cell_type": "code",
   "execution_count": 1,
   "id": "46ddfba0",
   "metadata": {},
   "outputs": [],
   "source": [
    "# reverse a string"
   ]
  },
  {
   "cell_type": "markdown",
   "id": "a1275ae1",
   "metadata": {},
   "source": [
    "### Sample String : \"1234abcd\"\n",
    "\n",
    "### Expected Output : \"dcba4321\""
   ]
  },
  {
   "cell_type": "code",
   "execution_count": 2,
   "id": "b65817ee",
   "metadata": {},
   "outputs": [],
   "source": [
    "#  string reverse with slicing"
   ]
  },
  {
   "cell_type": "code",
   "execution_count": 3,
   "id": "283f2ac7",
   "metadata": {},
   "outputs": [
    {
     "data": {
      "text/plain": [
       "'fgk7654'"
      ]
     },
     "execution_count": 3,
     "metadata": {},
     "output_type": "execute_result"
    }
   ],
   "source": [
    "str = \"4567kgf\"\n",
    "\n",
    "str[::-1]"
   ]
  },
  {
   "cell_type": "code",
   "execution_count": 4,
   "id": "66ab25ed",
   "metadata": {},
   "outputs": [],
   "source": [
    "# string using reverse function"
   ]
  },
  {
   "cell_type": "code",
   "execution_count": 11,
   "id": "bc438e0c",
   "metadata": {},
   "outputs": [
    {
     "name": "stdout",
     "output_type": "stream",
     "text": [
      "Enter the string you want to reverse : killer ram 567\n",
      "reversed string is  765 mar rellik\n"
     ]
    }
   ],
   "source": [
    "def reverse_function():\n",
    "    input_string = input(\"enter the string : \")\n",
    "    reversed_string = input_string[::-1]\n",
    "    return(reversed_string)\n",
    "required_string = reverse_string()\n",
    "print(\"reversed string is \" , required_string)"
   ]
  },
  {
   "cell_type": "code",
   "execution_count": 9,
   "id": "abb6c8bd",
   "metadata": {},
   "outputs": [
    {
     "name": "stdout",
     "output_type": "stream",
     "text": [
      "Enter the string you want to reverse : 1234abcd\n",
      "Required Reversed String Is :  dcba4321\n"
     ]
    }
   ],
   "source": [
    "def reverse_string():\n",
    "    input_string = input(\"Enter the string you want to reverse : \")\n",
    "    reversed_string = input_string[::-1]\n",
    "    return(reversed_string)\n",
    "required_string = reverse_string()\n",
    "print(\"Required Reversed String Is : \" , required_string)"
   ]
  },
  {
   "cell_type": "code",
   "execution_count": null,
   "id": "d2823b1a",
   "metadata": {},
   "outputs": [],
   "source": []
  }
 ],
 "metadata": {
  "kernelspec": {
   "display_name": "Python 3 (ipykernel)",
   "language": "python",
   "name": "python3"
  },
  "language_info": {
   "codemirror_mode": {
    "name": "ipython",
    "version": 3
   },
   "file_extension": ".py",
   "mimetype": "text/x-python",
   "name": "python",
   "nbconvert_exporter": "python",
   "pygments_lexer": "ipython3",
   "version": "3.9.7"
  }
 },
 "nbformat": 4,
 "nbformat_minor": 5
}
